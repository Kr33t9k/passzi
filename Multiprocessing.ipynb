{
  "nbformat": 4,
  "nbformat_minor": 0,
  "metadata": {
    "colab": {
      "name": "Multiprocessing.ipynb",
      "provenance": [],
      "collapsed_sections": []
    },
    "kernelspec": {
      "name": "python3",
      "display_name": "Python 3"
    }
  },
  "cells": [
    {
      "cell_type": "markdown",
      "metadata": {
        "id": "hB_O0sHdFZFC"
      },
      "source": [
        "# **Модуль Multiprocessing**\r\n",
        "Модуль multiprocessing позволяет вам создавать процессы таким же образом, как при создании потоков при помощи модуля threading, и воспользоваться возможностью использования нескольких процессоров на компьютере."
      ]
    },
    {
      "cell_type": "code",
      "metadata": {
        "id": "YdW5zhbmF4g-",
        "colab": {
          "base_uri": "https://localhost:8080/"
        },
        "outputId": "a892d38d-00c5-4e4a-8558-d1b08306cc9e"
      },
      "source": [
        "from multiprocessing import Process, current_process\r\n",
        "import time\r\n",
        " \r\n",
        " \r\n",
        "def doubler(number):\r\n",
        "    result = number * 2\r\n",
        "    proc_name = current_process().name\r\n",
        "    time.sleep(3)\r\n",
        "    print('{0} doubled to {1} by: {2}'.format(\r\n",
        "        number, result, proc_name))\r\n",
        " \r\n",
        " \r\n",
        "if __name__ == '__main__':\r\n",
        "    numbers = [5, 10, 15, 20, 25]\r\n",
        "    procs = []\r\n",
        "    proc = Process(target=doubler, args=(5,))\r\n",
        "    \r\n",
        "    for index, number in enumerate(numbers):\r\n",
        "        proc = Process(target=doubler, args=(number,))\r\n",
        "        procs.append(proc)\r\n",
        "        proc.start()\r\n",
        "    \r\n",
        "    for proc in procs:\r\n",
        "        proc.join()"
      ],
      "execution_count": 21,
      "outputs": [
        {
          "output_type": "stream",
          "text": [
            "[INFO/Process-54] child process calling self.run()\n",
            "[INFO/Process-55] child process calling self.run()\n",
            "[INFO/Process-54] child process calling self.run()\n",
            "[INFO/Process-56] child process calling self.run()\n",
            "[INFO/Process-56] child process calling self.run()\n",
            "[INFO/Process-55] child process calling self.run()\n",
            "[INFO/Process-58] child process calling self.run()\n",
            "[INFO/Process-57] child process calling self.run()\n",
            "[INFO/Process-57] child process calling self.run()\n",
            "[INFO/Process-58] child process calling self.run()\n"
          ],
          "name": "stderr"
        },
        {
          "output_type": "stream",
          "text": [
            "5 doubled to 10 by: Process-54\n"
          ],
          "name": "stdout"
        },
        {
          "output_type": "stream",
          "text": [
            "[INFO/Process-54] process shutting down\n"
          ],
          "name": "stderr"
        },
        {
          "output_type": "stream",
          "text": [
            "15 doubled to 30 by: Process-56\n",
            "10 doubled to 20 by: Process-55\n"
          ],
          "name": "stdout"
        },
        {
          "output_type": "stream",
          "text": [
            "[INFO/Process-55] process shutting down\n",
            "[INFO/Process-55] process shutting down\n",
            "[INFO/Process-56] process shutting down\n"
          ],
          "name": "stderr"
        },
        {
          "output_type": "stream",
          "text": [
            "20 doubled to 40 by: Process-57\n"
          ],
          "name": "stdout"
        },
        {
          "output_type": "stream",
          "text": [
            "[INFO/Process-55] process exiting with exitcode 0\n",
            "[INFO/Process-56] process shutting down\n"
          ],
          "name": "stderr"
        },
        {
          "output_type": "stream",
          "text": [
            "25 doubled to 50 by: Process-58\n"
          ],
          "name": "stdout"
        },
        {
          "output_type": "stream",
          "text": [
            "[INFO/Process-54] process shutting down\n",
            "[INFO/Process-55] process exiting with exitcode 0\n",
            "[INFO/Process-58] process shutting down\n",
            "[INFO/Process-57] process shutting down\n",
            "[INFO/Process-54] process exiting with exitcode 0\n",
            "[INFO/Process-58] process shutting down\n",
            "[INFO/Process-56] process exiting with exitcode 0\n",
            "[INFO/Process-58] process exiting with exitcode 0\n",
            "[INFO/Process-54] process exiting with exitcode 0\n",
            "[INFO/Process-57] process shutting down\n",
            "[INFO/Process-58] process exiting with exitcode 0\n",
            "[INFO/Process-56] process exiting with exitcode 0\n",
            "[INFO/Process-57] process exiting with exitcode 0\n",
            "[INFO/Process-57] process exiting with exitcode 0\n"
          ],
          "name": "stderr"
        }
      ]
    },
    {
      "cell_type": "markdown",
      "metadata": {
        "id": "Gy_8nAcCuZsP"
      },
      "source": [
        "## **Lock**\r\n",
        "Модуль multiprocessing поддерживает замки так же, как и модуль threading. Все что вам нужно, это импортировать Lock, повесить его, сделать что-нибудь и снять его. Давайте посмотрим:"
      ]
    },
    {
      "cell_type": "code",
      "metadata": {
        "id": "q_PDZ8wZuh8G",
        "colab": {
          "base_uri": "https://localhost:8080/"
        },
        "outputId": "80f27845-3ac3-4dca-ccbb-188ce3aa63e9"
      },
      "source": [
        "import logging\r\n",
        "import multiprocessing\r\n",
        "from multiprocessing import Process, Lock\r\n",
        " \r\n",
        " \r\n",
        "def printer(item, lock):\r\n",
        "    \"\"\"\r\n",
        "    Выводим то что передали\r\n",
        "    \"\"\"\r\n",
        "    lock.acquire()\r\n",
        "    try:\r\n",
        "        print(item)\r\n",
        "    finally:\r\n",
        "        lock.release()\r\n",
        " \r\n",
        "if __name__ == '__main__':\r\n",
        "    lock = Lock()\r\n",
        "    items = ['tango', 'foxtrot', 10]\r\n",
        "    multiprocessing.log_to_stderr()\r\n",
        "    \r\n",
        "    logger = multiprocessing.get_logger()\r\n",
        "    logger.setLevel(logging.INFO)\r\n",
        "    \r\n",
        "    for item in items:\r\n",
        "        p = Process(target=printer, args=(item, lock))\r\n",
        "        p.start()"
      ],
      "execution_count": 22,
      "outputs": [
        {
          "output_type": "stream",
          "text": [
            "[INFO/Process-59] child process calling self.run()\n",
            "[INFO/Process-59] child process calling self.run()\n",
            "[INFO/Process-61] child process calling self.run()\n",
            "[INFO/Process-60] child process calling self.run()\n",
            "[INFO/Process-60] child process calling self.run()\n",
            "[INFO/Process-59] child process calling self.run()\n",
            "[INFO/Process-60] child process calling self.run()\n"
          ],
          "name": "stderr"
        },
        {
          "output_type": "stream",
          "text": [
            "tango\n",
            "foxtrot\n"
          ],
          "name": "stdout"
        },
        {
          "output_type": "stream",
          "text": [
            "[INFO/Process-59] process shutting down\n",
            "[INFO/Process-61] child process calling self.run()\n",
            "[INFO/Process-61] child process calling self.run()\n",
            "[INFO/Process-59] process shutting down\n",
            "[INFO/Process-59] process shutting down\n",
            "[INFO/Process-59] process exiting with exitcode 0\n"
          ],
          "name": "stderr"
        },
        {
          "output_type": "stream",
          "text": [
            "10\n"
          ],
          "name": "stdout"
        },
        {
          "output_type": "stream",
          "text": [
            "[INFO/Process-60] process shutting down\n",
            "[INFO/Process-61] process shutting down\n",
            "[INFO/Process-60] process shutting down\n",
            "[INFO/Process-59] process exiting with exitcode 0\n",
            "[INFO/Process-60] process shutting down\n",
            "[INFO/Process-60] process exiting with exitcode 0\n",
            "[INFO/Process-60] process exiting with exitcode 0\n",
            "[INFO/Process-61] process shutting down\n",
            "[INFO/Process-60] process exiting with exitcode 0\n",
            "[INFO/Process-59] process exiting with exitcode 0\n",
            "[INFO/Process-61] process shutting down\n",
            "[INFO/Process-61] process exiting with exitcode 0\n",
            "[INFO/Process-61] process exiting with exitcode 0\n",
            "[INFO/Process-61] process exiting with exitcode 0\n"
          ],
          "name": "stderr"
        }
      ]
    },
    {
      "cell_type": "markdown",
      "metadata": {
        "id": "LOhztwiEwOnn"
      },
      "source": [
        "## **Pool**\r\n",
        "Класс **Pool** используется для показа пула рабочих процессов. Он включает в себя методы, которые позволяют вам разгружать задачи к рабочим процессам. Давайте посмотрим на простейший пример:"
      ]
    },
    {
      "cell_type": "code",
      "metadata": {
        "id": "hbPF5D0YuzzL",
        "colab": {
          "base_uri": "https://localhost:8080/"
        },
        "outputId": "073b6542-0589-41d7-9598-597168944185"
      },
      "source": [
        "from multiprocessing import Pool\r\n",
        "import time\r\n",
        " \r\n",
        " \r\n",
        "def doubler(number):\r\n",
        "    time.sleep(number)\r\n",
        "    print(number * 2)\r\n",
        "    return number * 2\r\n",
        " \r\n",
        " \r\n",
        "if __name__ == '__main__':\r\n",
        "    numbers = [3, 2, 1]\r\n",
        "    pool = Pool(processes = 1) #изменить значение на 1\r\n",
        "    print(pool.map(doubler, numbers))"
      ],
      "execution_count": 25,
      "outputs": [
        {
          "output_type": "stream",
          "text": [
            "[INFO/ForkPoolWorker-68] child process calling self.run()\n",
            "[INFO/ForkPoolWorker-68] child process calling self.run()\n",
            "[INFO/ForkPoolWorker-68] child process calling self.run()\n"
          ],
          "name": "stderr"
        },
        {
          "output_type": "stream",
          "text": [
            "6\n",
            "4\n",
            "2\n",
            "[6, 4, 2]\n"
          ],
          "name": "stdout"
        }
      ]
    },
    {
      "cell_type": "markdown",
      "metadata": {
        "id": "Yb8EKzEEzPP3"
      },
      "source": [
        "Также можно получить результат процесса в пуле, используя метод **apply_async**"
      ]
    },
    {
      "cell_type": "code",
      "metadata": {
        "id": "M_oWsq9JxTCn",
        "colab": {
          "base_uri": "https://localhost:8080/",
          "height": 498
        },
        "outputId": "9d9c0689-1d29-496b-e401-26434bba9548"
      },
      "source": [
        "from multiprocessing import Pool\r\n",
        "import time\r\n",
        " \r\n",
        "def doubler(number):\r\n",
        "    time.sleep(number * 2)\r\n",
        "    print(f'Текущий number: {number}')\r\n",
        "    return number * 2\r\n",
        " \r\n",
        " \r\n",
        "if __name__ == '__main__':\r\n",
        "    pool = Pool(processes = 3)\r\n",
        "    result1 = pool.apply_async(doubler, (3,))\r\n",
        "    result2 = pool.apply_async(doubler, (2,))\r\n",
        "    result3 = pool.apply_async(doubler, (1,))\r\n",
        "    print(f'Результат выполнения number 3: {result1.get()}')\r\n",
        "    print(f'Результат выполнения number 2: {result2.get()}')\r\n",
        "    print(f'Результат выполнения number 1: {result3.get(timeout=0.1)}') # Поднять на две строчки\r\n",
        "    print(result1.get())"
      ],
      "execution_count": 28,
      "outputs": [
        {
          "output_type": "stream",
          "text": [
            "[INFO/ForkPoolWorker-76] child process calling self.run()\n",
            "[INFO/ForkPoolWorker-75] child process calling self.run()\n",
            "[INFO/ForkPoolWorker-76] child process calling self.run()\n",
            "[INFO/ForkPoolWorker-76] child process calling self.run()\n",
            "[INFO/ForkPoolWorker-77] child process calling self.run()\n",
            "[INFO/ForkPoolWorker-75] child process calling self.run()\n",
            "[INFO/ForkPoolWorker-77] child process calling self.run()\n",
            "[INFO/ForkPoolWorker-75] child process calling self.run()\n",
            "[INFO/ForkPoolWorker-77] child process calling self.run()\n"
          ],
          "name": "stderr"
        },
        {
          "output_type": "error",
          "ename": "TimeoutError",
          "evalue": "ignored",
          "traceback": [
            "\u001b[0;31m---------------------------------------------------------------------------\u001b[0m",
            "\u001b[0;31mTimeoutError\u001b[0m                              Traceback (most recent call last)",
            "\u001b[0;32m<ipython-input-28-682d33d53de7>\u001b[0m in \u001b[0;36m<module>\u001b[0;34m()\u001b[0m\n\u001b[1;32m     13\u001b[0m     \u001b[0mresult2\u001b[0m \u001b[0;34m=\u001b[0m \u001b[0mpool\u001b[0m\u001b[0;34m.\u001b[0m\u001b[0mapply_async\u001b[0m\u001b[0;34m(\u001b[0m\u001b[0mdoubler\u001b[0m\u001b[0;34m,\u001b[0m \u001b[0;34m(\u001b[0m\u001b[0;36m2\u001b[0m\u001b[0;34m,\u001b[0m\u001b[0;34m)\u001b[0m\u001b[0;34m)\u001b[0m\u001b[0;34m\u001b[0m\u001b[0;34m\u001b[0m\u001b[0m\n\u001b[1;32m     14\u001b[0m     \u001b[0mresult3\u001b[0m \u001b[0;34m=\u001b[0m \u001b[0mpool\u001b[0m\u001b[0;34m.\u001b[0m\u001b[0mapply_async\u001b[0m\u001b[0;34m(\u001b[0m\u001b[0mdoubler\u001b[0m\u001b[0;34m,\u001b[0m \u001b[0;34m(\u001b[0m\u001b[0;36m1\u001b[0m\u001b[0;34m,\u001b[0m\u001b[0;34m)\u001b[0m\u001b[0;34m)\u001b[0m\u001b[0;34m\u001b[0m\u001b[0;34m\u001b[0m\u001b[0m\n\u001b[0;32m---> 15\u001b[0;31m     \u001b[0mprint\u001b[0m\u001b[0;34m(\u001b[0m\u001b[0;34mf'Результат выполнения number 1: {result3.get(timeout=0.1)}'\u001b[0m\u001b[0;34m)\u001b[0m \u001b[0;31m# Поднять на две строчки\u001b[0m\u001b[0;34m\u001b[0m\u001b[0;34m\u001b[0m\u001b[0m\n\u001b[0m\u001b[1;32m     16\u001b[0m     \u001b[0mprint\u001b[0m\u001b[0;34m(\u001b[0m\u001b[0;34mf'Результат выполнения number 3: {result1.get()}'\u001b[0m\u001b[0;34m)\u001b[0m\u001b[0;34m\u001b[0m\u001b[0;34m\u001b[0m\u001b[0m\n\u001b[1;32m     17\u001b[0m     \u001b[0mprint\u001b[0m\u001b[0;34m(\u001b[0m\u001b[0;34mf'Результат выполнения number 2: {result2.get()}'\u001b[0m\u001b[0;34m)\u001b[0m\u001b[0;34m\u001b[0m\u001b[0;34m\u001b[0m\u001b[0m\n",
            "\u001b[0;32m/usr/lib/python3.6/multiprocessing/pool.py\u001b[0m in \u001b[0;36mget\u001b[0;34m(self, timeout)\u001b[0m\n\u001b[1;32m    638\u001b[0m         \u001b[0mself\u001b[0m\u001b[0;34m.\u001b[0m\u001b[0mwait\u001b[0m\u001b[0;34m(\u001b[0m\u001b[0mtimeout\u001b[0m\u001b[0;34m)\u001b[0m\u001b[0;34m\u001b[0m\u001b[0;34m\u001b[0m\u001b[0m\n\u001b[1;32m    639\u001b[0m         \u001b[0;32mif\u001b[0m \u001b[0;32mnot\u001b[0m \u001b[0mself\u001b[0m\u001b[0;34m.\u001b[0m\u001b[0mready\u001b[0m\u001b[0;34m(\u001b[0m\u001b[0;34m)\u001b[0m\u001b[0;34m:\u001b[0m\u001b[0;34m\u001b[0m\u001b[0;34m\u001b[0m\u001b[0m\n\u001b[0;32m--> 640\u001b[0;31m             \u001b[0;32mraise\u001b[0m \u001b[0mTimeoutError\u001b[0m\u001b[0;34m\u001b[0m\u001b[0;34m\u001b[0m\u001b[0m\n\u001b[0m\u001b[1;32m    641\u001b[0m         \u001b[0;32mif\u001b[0m \u001b[0mself\u001b[0m\u001b[0;34m.\u001b[0m\u001b[0m_success\u001b[0m\u001b[0;34m:\u001b[0m\u001b[0;34m\u001b[0m\u001b[0;34m\u001b[0m\u001b[0m\n\u001b[1;32m    642\u001b[0m             \u001b[0;32mreturn\u001b[0m \u001b[0mself\u001b[0m\u001b[0;34m.\u001b[0m\u001b[0m_value\u001b[0m\u001b[0;34m\u001b[0m\u001b[0;34m\u001b[0m\u001b[0m\n",
            "\u001b[0;31mTimeoutError\u001b[0m: "
          ]
        }
      ]
    },
    {
      "cell_type": "markdown",
      "metadata": {
        "id": "-Pnii_rKzai7"
      },
      "source": [
        "Функция **get** пытается получить результат процесса. Обратите внимание на порядок выполнения и порядок получения результатов."
      ]
    },
    {
      "cell_type": "markdown",
      "metadata": {
        "id": "yETZvgVH3UHh"
      },
      "source": [
        "## **Связь между процессами**"
      ]
    },
    {
      "cell_type": "markdown",
      "metadata": {
        "id": "zUQEBZWn3WY2"
      },
      "source": [
        "Когда речь заходит о связи между процессами, модули нашего **multiprocessing** включают в себя два главных метода: **Queue** и **Pipe**. Работа **Queue** защищена как от процессов, так и от потоков. Давайте взглянем на достаточно простой пример:"
      ]
    },
    {
      "cell_type": "markdown",
      "metadata": {
        "id": "PDclZSTK58Bx"
      },
      "source": [
        "### **Queue**"
      ]
    },
    {
      "cell_type": "code",
      "metadata": {
        "id": "GbrGgzSd1AV0",
        "colab": {
          "base_uri": "https://localhost:8080/"
        },
        "outputId": "622e0942-4103-4892-9689-59149e4f309e"
      },
      "source": [
        "from multiprocessing import Process, Queue\r\n",
        "import time\r\n",
        "  \r\n",
        "sentinel = -1\r\n",
        "\r\n",
        "def creator(data, q):\r\n",
        "    time.sleep(1)\r\n",
        "    print('Прошла одна секунда')\r\n",
        "    print('Создание очереди, наполнение ее элементами')\r\n",
        "    for item in data:\r\n",
        "        q.put(item)\r\n",
        " \r\n",
        " \r\n",
        "def my_consumer(q):\r\n",
        "    # time.sleep(2)\r\n",
        "    print('Прошло две секунды')\r\n",
        "    while True:\r\n",
        "        data = q.get()\r\n",
        "        print(f'Сейчас выполняется элемент {data}: {data * 2}')\r\n",
        "        # q.get()\r\n",
        "        if data is sentinel:\r\n",
        "            break\r\n",
        " \r\n",
        "if __name__ == '__main__':\r\n",
        "    q = Queue()\r\n",
        "    data = [5, 10, 13, -1]\r\n",
        "    \r\n",
        "    process_one = Process(target=creator, args=(data, q))\r\n",
        "    process_two = Process(target=my_consumer, args=(q,))\r\n",
        "    \r\n",
        "    process_two.start()\r\n",
        "    process_one.start()\r\n",
        "    \r\n",
        "    q.close()\r\n",
        "    q.join_thread()\r\n",
        "    \r\n",
        "    process_one.join()\r\n",
        "    process_two.join()"
      ],
      "execution_count": 29,
      "outputs": [
        {
          "output_type": "stream",
          "text": [
            "[INFO/Process-79] child process calling self.run()\n",
            "[INFO/Process-78] child process calling self.run()\n",
            "[INFO/Process-78] child process calling self.run()\n",
            "[INFO/Process-78] child process calling self.run()\n",
            "[INFO/Process-79] child process calling self.run()\n",
            "[INFO/Process-79] child process calling self.run()\n"
          ],
          "name": "stderr"
        },
        {
          "output_type": "stream",
          "text": [
            "Прошло две секунды\n",
            "Прошла одна секунда\n",
            "Создание очереди, наполнение ее элементами\n",
            "Сейчас выполняется элемент 5: 10\n"
          ],
          "name": "stdout"
        },
        {
          "output_type": "stream",
          "text": [
            "[INFO/Process-78] process shutting down\n",
            "[INFO/Process-78] process shutting down\n"
          ],
          "name": "stderr"
        },
        {
          "output_type": "stream",
          "text": [
            "Сейчас выполняется элемент 10: 20\n",
            "Сейчас выполняется элемент 13: 26\n",
            "Сейчас выполняется элемент -1: -2\n"
          ],
          "name": "stdout"
        },
        {
          "output_type": "stream",
          "text": [
            "[INFO/Process-78] process shutting down\n",
            "[INFO/Process-79] process shutting down\n",
            "[INFO/Process-78] process exiting with exitcode 0\n",
            "[INFO/Process-78] process exiting with exitcode 0\n",
            "[INFO/Process-79] process shutting down\n",
            "[INFO/Process-78] process exiting with exitcode 0\n",
            "[INFO/Process-79] process shutting down\n",
            "[INFO/Process-79] process exiting with exitcode 0\n",
            "[INFO/Process-79] process exiting with exitcode 0\n",
            "[INFO/Process-79] process exiting with exitcode 0\n"
          ],
          "name": "stderr"
        }
      ]
    },
    {
      "cell_type": "markdown",
      "metadata": {
        "id": "KxloXwRM5__U"
      },
      "source": [
        "### **Pipe**"
      ]
    },
    {
      "cell_type": "markdown",
      "metadata": {
        "id": "878a0CnU6GZ6"
      },
      "source": [
        "Функция Pipe () возвращает пару объектов подключения, соединенных конвейером, который по умолчанию является дуплексным (двусторонним). Например:"
      ]
    },
    {
      "cell_type": "code",
      "metadata": {
        "colab": {
          "base_uri": "https://localhost:8080/"
        },
        "id": "Qb66btrT5Qac",
        "outputId": "eb0bc893-709b-4b0d-a841-8a823d1788a6"
      },
      "source": [
        "from multiprocessing import Process, Pipe\r\n",
        "import time\r\n",
        "\r\n",
        "def f(conn):\r\n",
        "    time.sleep(2)\r\n",
        "    conn.send([42, None, 'hello'])\r\n",
        "    conn.close()\r\n",
        "\r\n",
        "if __name__ == '__main__':\r\n",
        "    parent_conn, child_conn = Pipe()\r\n",
        "    p = Process(target=f, args=(child_conn,))\r\n",
        "    p.start()\r\n",
        "    print(parent_conn.recv())   # prints \"[42, None, 'hello']\"\r\n",
        "    p.join()"
      ],
      "execution_count": 30,
      "outputs": [
        {
          "output_type": "stream",
          "text": [
            "[INFO/Process-80] child process calling self.run()\n",
            "[INFO/Process-80] child process calling self.run()\n",
            "[INFO/Process-80] child process calling self.run()\n",
            "[INFO/Process-80] process shutting down\n",
            "[INFO/Process-80] process shutting down\n",
            "[INFO/Process-80] process shutting down\n",
            "[INFO/Process-80] process exiting with exitcode 0\n",
            "[INFO/Process-80] process exiting with exitcode 0\n",
            "[INFO/Process-80] process exiting with exitcode 0\n"
          ],
          "name": "stderr"
        },
        {
          "output_type": "stream",
          "text": [
            "[42, None, 'hello']\n"
          ],
          "name": "stdout"
        }
      ]
    }
  ]
}