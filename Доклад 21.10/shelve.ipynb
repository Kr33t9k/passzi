{
  "nbformat": 4,
  "nbformat_minor": 0,
  "metadata": {
    "colab": {
      "name": "shelve.ipynb",
      "provenance": [],
      "collapsed_sections": [],
      "toc_visible": true
    },
    "kernelspec": {
      "name": "python3",
      "display_name": "Python 3"
    }
  },
  "cells": [
    {
      "cell_type": "markdown",
      "metadata": {
        "id": "ohQG85ZUodG0"
      },
      "source": [
        "# **Модуль shelve**\n",
        "“Полка” - это постоянный объект, подобный словарю. Разница с базами данных “СУБД” заключается в том, что значениями (не ключами!) в полке могут быть по существу произвольные объекты Python — все, что может обрабатывать модуль pickle. Это относится к большинству экземпляров классов, рекурсивным типам данных и объектам, содержащим множество общих вложенных объектов. Ключами словаря всегда служат обычные значения string.\n",
        "\n",
        "Также, как и pickle, shelve небезопасен и в официальной документации есть такая надпись:\n",
        "\n",
        "\n",
        "> **Предупреждение:** поскольку модуль shelve основан на pickle, небезопасно загружать полку из ненадежного источника. Как и в случае с pickle, загрузка полки может выполнять произвольный код.\n",
        "\n"
      ]
    },
    {
      "cell_type": "markdown",
      "metadata": {
        "id": "JRvrExwLroom"
      },
      "source": [
        "## **Пример использования модуля sheleve. Демонстрация различия между shelve и pickle**"
      ]
    },
    {
      "cell_type": "code",
      "metadata": {
        "id": "e7O2RvpxsBzK",
        "outputId": "f5675671-be93-449c-f593-9d2dc41b09ba",
        "colab": {
          "base_uri": "https://localhost:8080/",
          "height": 50
        }
      },
      "source": [
        "import shelve\n",
        "import pickle\n",
        "\n",
        "integers = [1, 2, 3, 4, 5]\n",
        "\n",
        "pickle_example = pickle.dumps(integers)\n",
        "print(f'pickle example: {pickle.loads(pickle_example)}')\n",
        "\n",
        "with shelve.open('shelf-example', 'c') as shelf:\n",
        "    shelf['ints'] = integers\n",
        "\n",
        "print('shelve example: ', end = '')\n",
        "\n",
        "with shelve.open('shelf-example', 'r') as shelf:\n",
        "    for item in shelf.items():\n",
        "      print(item)"
      ],
      "execution_count": null,
      "outputs": [
        {
          "output_type": "stream",
          "text": [
            "pickle example: [1, 2, 3, 4, 5]\n",
            "shelve example: ('ints', [1, 2, 3, 4, 5])\n"
          ],
          "name": "stdout"
        }
      ]
    },
    {
      "cell_type": "markdown",
      "metadata": {
        "id": "T3GYAZcxuF_9"
      },
      "source": [
        "\n",
        "> **Примечание:** не полагайтесь на то, что полка закрывается автоматически; всегда вызывайте close() явно, когда она вам больше не нужна, или используйте shelve. open() в качестве контекстного менеджера:\n",
        "```\n",
        "with shelve.open('spam') as db:\n",
        "    db['eggs'] = 'eggs'\n",
        "```\n",
        "\n",
        "\n",
        "\n"
      ]
    },
    {
      "cell_type": "markdown",
      "metadata": {
        "id": "vzUq_kiwvC1p"
      },
      "source": [
        "### **shelve.open**(filename, flag='c', protocol=None, writeback=False)\n",
        "Открывает файл\n",
        "\n",
        "По умолчанию для сериализации значений используются протокол pickle версии 3. Версия протокола pickle может быть задана с помощью параметра protocol.\n",
        "\n",
        "Из-за семантики Python полка не может знать, когда изменяемая запись словаря изменяется. По умолчанию измененные объекты записываются только тогда, когда они поставлены на полку (как в примере). Если необязательный параметр обратной записи (writeback) имеет значение True, то все доступные записи также кэшируются в памяти и записываются при sync() и close(); это может сделать более удобными изменения в постоянном словаре, но, если есть много записей, это может потреблять огромное количество памяти для кэша, и может сделать операцию закрытия очень медленной, так как все доступные вхождения записываются обратно (нет никакого способа определить, какие доступные вхождения являются изменяемыми, а какие были фактически изменены).\n",
        "\n",
        "Параметр flag может принимать значения:\n",
        "\n",
        "*   c: файл открывается для чтения и записи (значение по умолчанию). Если файл не существует, то он создается. \n",
        "*   r: файл открывается только для чтения.\n",
        "*   w: файл открывается для записи.\n",
        "*   n: файл открывается для записи Если файл не существует, то он создается. Если он существует, то он перезаписывается\n"
      ]
    },
    {
      "cell_type": "code",
      "metadata": {
        "id": "0h0kX6Nox1mf",
        "outputId": "9d7f76cf-d8fc-4c21-a96e-cebe6f1e84e4",
        "colab": {
          "base_uri": "https://localhost:8080/",
          "height": 50
        }
      },
      "source": [
        "import shelve\n",
        "\n",
        "def country(text):\n",
        "  return(text)\n",
        "\n",
        "FILENAME = \"states2\"\n",
        "with shelve.open(FILENAME) as states:\n",
        "    states[\"London\"] = country(\"Great Britain\") #функця\n",
        "    states[\"Paris\"] = \"France\"\n",
        "    states[\"Berlin\"] = \"Germany\"\n",
        "    states[\"Madrid\"] = \"Spain\"\n",
        " \n",
        "with shelve.open(FILENAME) as states:\n",
        "    print(states[\"London\"])\n",
        "    print(states[\"Madrid\"])\n",
        "    states.pop(\"Madrid\") #поддерживает все методы словарей. Это пример"
      ],
      "execution_count": null,
      "outputs": [
        {
          "output_type": "stream",
          "text": [
            "Great Britain\n",
            "Spain\n"
          ],
          "name": "stdout"
        }
      ]
    },
    {
      "cell_type": "markdown",
      "metadata": {
        "id": "luqc3i-71Fp1"
      },
      "source": [
        "Объекты Shelf поддерживают все методы, поддерживаемые словарями. Это облегчает переход от сценариев, основанных на словаре, к тем, которые требуют постоянного хранения.\n",
        "## **Поддерживаются два дополнительных метода:**"
      ]
    },
    {
      "cell_type": "markdown",
      "metadata": {
        "id": "15OMWPXNyXr2"
      },
      "source": [
        "### Shelf.**sync()**\n",
        "\n",
        "Записывает все вхождения из кэша, если полка была открыта с writeback = True. Также очищает кэш и синхронизирует постоянный словарь на диске, если это возможно. \n",
        "\n",
        "Вызывается автоматически, когда полка закрывается с помощью функции close()."
      ]
    },
    {
      "cell_type": "code",
      "metadata": {
        "id": "F7WzmGjszTBb"
      },
      "source": [
        "import shelve\n",
        "filename = \"yaustal\"\n",
        "da_ili_net = shelve.open(filename, flag='c', writeback = True)\n",
        "\n",
        "da_ili_net[\"da\"] = \"da\"\n",
        "da_ili_net[\"net\"] = \"net\"\n",
        "\n",
        "da_ili_net.sync()\n",
        "\n",
        "da_ili_net.close()\n"
      ],
      "execution_count": null,
      "outputs": []
    },
    {
      "cell_type": "markdown",
      "metadata": {
        "id": "rHWKJa8C0Tp-"
      },
      "source": [
        "### Shelf.**close()**\n",
        "Синхронизирует и закрывает объект dict. \n",
        "Операции с закрытой полкой завершатся ошибкой."
      ]
    },
    {
      "cell_type": "code",
      "metadata": {
        "id": "2qiW1xRi0nUi",
        "outputId": "da8c9114-6f83-4473-c1d2-e260b9c315ee",
        "colab": {
          "base_uri": "https://localhost:8080/",
          "height": 34
        }
      },
      "source": [
        "print('Примеры уже были выше')"
      ],
      "execution_count": null,
      "outputs": [
        {
          "output_type": "stream",
          "text": [
            "Примеры уже были выше\n"
          ],
          "name": "stdout"
        }
      ]
    },
    {
      "cell_type": "markdown",
      "metadata": {
        "id": "R8b1KjHDZ9bT"
      },
      "source": [
        "# **Задание**\n",
        "\n",
        "Сделайте пример из shelve.open() с другим(-и) типом(-ами) данных в качестве значений ключей."
      ]
    }
  ]
}