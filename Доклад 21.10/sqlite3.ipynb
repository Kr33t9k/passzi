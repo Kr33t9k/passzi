{
  "nbformat": 4,
  "nbformat_minor": 0,
  "metadata": {
    "colab": {
      "name": "sqlite3.ipynb",
      "provenance": [],
      "collapsed_sections": [],
      "toc_visible": true
    },
    "kernelspec": {
      "name": "python3",
      "display_name": "Python 3"
    }
  },
  "cells": [
    {
      "cell_type": "markdown",
      "metadata": {
        "id": "rIyzmozM36iY"
      },
      "source": [
        "# **Модуль sqlite3**\n",
        "SQLite - это библиотека C, которая обеспечивает легкую базу данных на диске, не требующую отдельного серверного процесса и позволяющую получить доступ к базе данных с использованием нестандартного варианта языка запросов SQL. Некоторые приложения могут использовать SQLite для внутреннего хранения данных. Также можно создать прототип приложения с помощью SQLite, а затем перенести код в более крупную базу данных, такую ​​как PostgreSQL или Oracle."
      ]
    },
    {
      "cell_type": "markdown",
      "metadata": {
        "id": "_RDud_KhIHu5"
      },
      "source": [
        "## **Использование модуля**"
      ]
    },
    {
      "cell_type": "markdown",
      "metadata": {
        "id": "pFqYgZk44wbs"
      },
      "source": [
        "Чтобы использовать модуль, нужно сначала создать объект Connection, представляющий базу данных. В примере данные будут храниться в файле Groups.db:"
      ]
    },
    {
      "cell_type": "code",
      "metadata": {
        "id": "-bkRXdOI41Fm"
      },
      "source": [
        "import sqlite3\n",
        "conn = sqlite3.connect('Groups.db')\n",
        "conn.close()"
      ],
      "execution_count": null,
      "outputs": []
    },
    {
      "cell_type": "markdown",
      "metadata": {
        "id": "QetcIIoO48rm"
      },
      "source": [
        "Также можно указать специальное имя: memory: для создания базы данных в RAM. \n",
        "\n",
        "```\n",
        "db = sqlite3.connect(\":memory:\")\n",
        "```\n",
        "\n",
        "Когда у вас есть Connection, можно создать объект Cursor и вызвать его метод execute() (выполнить) для выполнения команд SQL:"
      ]
    },
    {
      "cell_type": "code",
      "metadata": {
        "id": "Qf9ENqSe5izG"
      },
      "source": [
        "import sqlite3\n",
        "conn = sqlite3.connect('Groups.db')\n",
        "\n",
        "c = conn.cursor()\n",
        "\n",
        "# Создаем таблицу Groups\n",
        "c.execute('''CREATE TABLE IF NOT EXISTS Groups\n",
        "             (group_id INTEGER PRIMARY KEY ON CONFLICT REPLACE, group_name TEXT, group_course SMALLINT)''')\n",
        "\n",
        "#Добавляем в нее первую запись\n",
        "c.execute('''INSERT INTO Groups VALUES (1, \"ИБ-1801\", 3)''')\n",
        "\n",
        "conn.commit() #Сохранить изменения\n",
        "\n",
        "conn.close()"
      ],
      "execution_count": null,
      "outputs": []
    },
    {
      "cell_type": "markdown",
      "metadata": {
        "id": "2lfvSKH8_EnK"
      },
      "source": [
        "Обычно операциям SQL нужно использовать значения из переменных в Python. Не стоит делать запрос с помощью строковых операций Python, потому что это небезопасно; это делает вашу программу уязвимой для атаки SQL-инъекций (см. https://xkcd.com/327/ для юмористического примера того, что может пойти не так).\n",
        "\n",
        "Вместо этого можно использовать подстановку параметров DB-API. Пишите ? в качестве параметра везде, где вы хотите использовать значение, а затем подставьте кортеж значений в качестве второго аргумента методу execute() курсора.\n",
        "Например:"
      ]
    },
    {
      "cell_type": "code",
      "metadata": {
        "id": "rg1jP5Qz_3Fg",
        "outputId": "60444c78-fe92-424d-87f0-0b84bfff8ba4",
        "colab": {
          "base_uri": "https://localhost:8080/",
          "height": 67
        }
      },
      "source": [
        "import sqlite3\n",
        "conn = sqlite3.connect('Groups.db')\n",
        "\n",
        "c = conn.cursor()\n",
        "\n",
        "c.execute('''INSERT INTO Groups VALUES (2, \"ИБ-1802\", 3)''') #добавим еще одну группу\n",
        "\n",
        "conn.commit()\n",
        "\n",
        "# Так никогда не делайте --это небезопасно!\n",
        "name = 'ИБ-1801'\n",
        "c.execute(\"SELECT * FROM Groups WHERE group_name = '%s'\" % name)\n",
        "print(f'Небезопасный запрос 1: {c.fetchone()}')\n",
        "\n",
        "name = \"' union SELECT * FROM Groups WHERE group_id = '2'  or '5'='5''\"\n",
        "c.execute(\"SELECT * FROM Groups WHERE group_name = '%s'\" % name)\n",
        "print(f'Небезопасный запрос 2: {c.fetchone()} - сработала инъекция с выводом элемента с group_id = 2') \n",
        "\n",
        "# Делайте так\n",
        "name = ('ИБ-1802',)\n",
        "c.execute(\"SELECT * FROM Groups WHERE group_name = ?\", name)\n",
        "print(f'Более безопасный вариант - {c.fetchone()}')"
      ],
      "execution_count": null,
      "outputs": [
        {
          "output_type": "stream",
          "text": [
            "Небезопасный запрос 1: (3, 'ИБ-1801', 3)\n",
            "Небезопасный запрос 2: (2, 'ИБ-1802', 3) - сработала инъекция с выводом элемента с group_id = 2\n",
            "Более безопасный вариант - (2, 'ИБ-1802', 3)\n"
          ],
          "name": "stdout"
        }
      ]
    },
    {
      "cell_type": "markdown",
      "metadata": {
        "id": "2XGArEKpGs7I"
      },
      "source": [
        "Для добавления большего количества записей в БД можно использовать метод executemany объекта Connection"
      ]
    },
    {
      "cell_type": "code",
      "metadata": {
        "id": "hpOca4tYGmGk",
        "outputId": "3e8fe366-165a-4bc3-9120-430269a161ea",
        "colab": {
          "base_uri": "https://localhost:8080/",
          "height": 101
        }
      },
      "source": [
        "import sqlite3\n",
        "conn = sqlite3.connect('Groups.db')\n",
        "\n",
        "c = conn.cursor()\n",
        "\n",
        "# Пример с добавлением большего количества записей\n",
        "gr = [\n",
        "        (3, 'ИБ-1801', 3),\n",
        "        (4, 'ПМ-1801', 3),\n",
        "        (5, 'ПМ-1802', 3),\n",
        "      ]\n",
        "c.executemany('INSERT INTO Groups VALUES (?,?,?)', gr)\n",
        "groups = c.execute(\"SELECT * FROM Groups\")\n",
        "\n",
        "\n",
        "for i in groups:\n",
        "  print(i) \n",
        "\n",
        "conn.commit()\n",
        "\n",
        "conn.close()"
      ],
      "execution_count": null,
      "outputs": [
        {
          "output_type": "stream",
          "text": [
            "(1, 'БИ-1801', 3)\n",
            "(2, 'ИБ-1802', 3)\n",
            "(3, 'ИБ-1801', 3)\n",
            "(4, 'ПМ-1801', 3)\n",
            "(5, 'ПМ-1802', 3)\n"
          ],
          "name": "stdout"
        }
      ]
    },
    {
      "cell_type": "markdown",
      "metadata": {
        "id": "OoFiggGxKoVm"
      },
      "source": [
        "Чтобы получить данные после выполнения инструкции SELECT, вы можете рассматривать курсор как итератор (как выше в выводе), вызвать метод курсора fetchone() для получения единственной совпадающей строки или вызвать функцию fetchall() для получения списка совпадающих строк:"
      ]
    },
    {
      "cell_type": "code",
      "metadata": {
        "id": "18ppRq7KK95G"
      },
      "source": [
        "import sqlite3\n",
        "conn = sqlite3.connect('Groups.db')\n",
        "\n",
        "c = conn.cursor()\n",
        "\n",
        "c.execute(\"SELECT * FROM Groups\")\n",
        "c.fetchall() \n",
        "\n",
        "# c.close()"
      ],
      "execution_count": null,
      "outputs": []
    },
    {
      "cell_type": "markdown",
      "metadata": {
        "id": "27SpDCkzIWDS"
      },
      "source": [
        "## **Основные функции и константы модуля sqlite3**"
      ]
    },
    {
      "cell_type": "markdown",
      "metadata": {
        "id": "BBgcljRwInAD"
      },
      "source": [
        "### sqlite3.**version**\n",
        "\n",
        "Номер версии этого модуля в виде строки. Это не версия библиотеки SQLite.\n",
        "\n",
        "### sqlite3.**version_info**\n",
        "\n",
        "Номер версии этого модуля, как кортеж целых чисел. Это не версия библиотеки SQLite.\n",
        "\n",
        "### sqlite3.**sqlite_version**\n",
        "\n",
        "Номер версии библиотеки SQLite ***во время выполнения*** в виде строки.\n",
        "\n",
        "### sqlite3.**sqlite_version_info**\n",
        "\n",
        "Номер версии библиотеки SQLite ***во время выполнения*** в виде кортежа целых чисел.\n",
        "\n"
      ]
    },
    {
      "cell_type": "code",
      "metadata": {
        "id": "RPNhLI-LJO7C",
        "outputId": "9d84c612-8baa-42a4-ad75-8794264868f0",
        "colab": {
          "base_uri": "https://localhost:8080/",
          "height": 34
        }
      },
      "source": [
        "import sqlite3\n",
        "\n",
        "print(f'{sqlite3.version}, {sqlite3.version_info}, {sqlite3.sqlite_version}, {sqlite3.sqlite_version_info}')"
      ],
      "execution_count": null,
      "outputs": [
        {
          "output_type": "stream",
          "text": [
            "2.6.0, (2, 6, 0), 3.22.0, (3, 22, 0)\n"
          ],
          "name": "stdout"
        }
      ]
    },
    {
      "cell_type": "markdown",
      "metadata": {
        "id": "Q4K-ijfmJs7i"
      },
      "source": [
        "### **sqlite3.connect**(database[, timeout, detect_types, isolation_level, check_same_thread, factory, cached_statements, uri])\n",
        "\n",
        "Подключение к БД.\n",
        "\n",
        "**detect_types** по умолчанию равен 0 (т.е. выкл., без определения типа), вы можете установить для него любую комбинацию:\n",
        "\n",
        "PARSE_DECLTYPES - При установке этого параметра модуль sqlite3 анализирует объявленный тип для каждого возвращаемого столбца \n",
        "\n",
        "PARSE_COLNAMES - При установке этого параметра SQLite анализирует имя каждого возвращаемого столбца\n",
        "\n",
        "Если **uri** = True, база данных интерпретируется как URI. Это позволяет указать параметры. Например, чтобы открыть базу данных в режиме только для чтения, вы можете использовать: \n",
        "\n",
        "`db = sqlite3.connect('file:path/to/database?mode=ro', uri=True)`\n",
        "\n",
        "[URI](https://ru.wikipedia.org/wiki/URI) — символьная строка, позволяющая идентифицировать какой-либо ресурс: документ, изображение, файл, службу, ящик электронной почты и т. д. "
      ]
    },
    {
      "cell_type": "markdown",
      "metadata": {
        "id": "uk2wqzuWONF1"
      },
      "source": [
        "### sqlite3.**complete_statement**(sql)\n",
        "\n",
        "Возвращает True, если строка sql содержит один или несколько полных операторов SQL, заканчивающихся точкой с запятой. Не проверяет синтаксическую корректность SQL, а только то, что в нем нет незамкнутых строковых литералов и оператор завершается точкой с запятой.\n",
        "\n",
        "Пример использования:"
      ]
    },
    {
      "cell_type": "code",
      "metadata": {
        "id": "Btr5SXF8O3Mp",
        "outputId": "6ef926ce-adda-41bb-8444-9c2837f8850d",
        "colab": {
          "base_uri": "https://localhost:8080/",
          "height": 67
        }
      },
      "source": [
        "import sqlite3\n",
        "\n",
        "\n",
        "print(sqlite3.complete_statement('SELECT 10 > 5;'))\n",
        "print(sqlite3.complete_statement('SELECT 10 > 5;\"'))\n",
        "print(sqlite3.complete_statement('SELECT \"10\" > \"5\";'))\n",
        "\n"
      ],
      "execution_count": null,
      "outputs": [
        {
          "output_type": "stream",
          "text": [
            "True\n",
            "False\n",
            "True\n"
          ],
          "name": "stdout"
        }
      ]
    },
    {
      "cell_type": "markdown",
      "metadata": {
        "id": "iDQszag7Rpui"
      },
      "source": [
        "## **Объекты Connection**\n",
        "\n",
        "Класс sqlite3.Connection\n",
        "\n",
        "Подключение к базе данных SQLite имеет следующие основные атрибуты и методы:"
      ]
    },
    {
      "cell_type": "markdown",
      "metadata": {
        "id": "_YpTw3kuSop6"
      },
      "source": [
        "### **commit()**\n",
        "Этот метод фиксирует текущее изменение. Если вы не вызвали этот метод, все, что вы делали с момента последнего вызова commit(), не будет видно из других подключений к базе данных."
      ]
    },
    {
      "cell_type": "markdown",
      "metadata": {
        "id": "OscGXPEBTAhp"
      },
      "source": [
        "### **rollback()**\n",
        "\n",
        "Этот метод откатывает любые изменения в базе данных с момента последнего вызова commit().\n",
        "\n",
        "### **close()**\n",
        "Закрывает соединение с базой данных. Обратите внимание, что он автоматически не вызывает commit(). Если вы просто закроете соединение с базой данных без предварительного вызова commit(), ваши изменения будут потеряны!"
      ]
    },
    {
      "cell_type": "code",
      "metadata": {
        "id": "QQSYM699TX9G",
        "outputId": "3b8cbe5e-d851-4a14-9281-74f3b4be7d6d",
        "colab": {
          "base_uri": "https://localhost:8080/",
          "height": 101
        }
      },
      "source": [
        "import sqlite3\n",
        "conn = sqlite3.connect('Groups.db')\n",
        "\n",
        "c = conn.cursor()\n",
        "\n",
        "#Добавляем в нее первую запись\n",
        "c.execute('''INSERT INTO Groups VALUES (1, \"БИ-1801\", 3)''')\n",
        "\n",
        "conn.commit() #Сохранить изменения\n",
        "\n",
        "c.execute('''INSERT INTO Groups VALUES (1, \"ИБ-1803\", 3)''')\n",
        "\n",
        "c.execute('''INSERT INTO Groups VALUES (1, \"ИБ-1803\", 3)''')\n",
        "\n",
        "conn.rollback()\n",
        "\n",
        "c.execute(\"SELECT * FROM Groups\")\n",
        "c.fetchall() \n",
        "\n",
        "\n",
        "# conn.close()"
      ],
      "execution_count": null,
      "outputs": [
        {
          "output_type": "execute_result",
          "data": {
            "text/plain": [
              "[(1, 'БИ-1801', 3),\n",
              " (2, 'ИБ-1802', 3),\n",
              " (3, 'ИБ-1801', 3),\n",
              " (4, 'ПМ-1801', 3),\n",
              " (5, 'ПМ-1802', 3)]"
            ]
          },
          "metadata": {
            "tags": []
          },
          "execution_count": 38
        }
      ]
    },
    {
      "cell_type": "markdown",
      "metadata": {
        "id": "xHyR7RQZVVFq"
      },
      "source": [
        "## **Объекты Cursor**\n",
        "Класс sqlite3.Cursor\n",
        "\n",
        "Экземпляр Cursor имеет следующие атрибуты и методы:"
      ]
    },
    {
      "cell_type": "markdown",
      "metadata": {
        "id": "H-3VvbLUUqVv"
      },
      "source": [
        "### **execute**(sql[, параметры])\n",
        "Выполняет инструкцию SQL. Оператор SQL может быть параметризован (т. е. заполнители вместо литералов SQL). Модуль sqlite3 поддерживает два вида заполнителей: вопросительные знаки (стиль qmark) и именованные заполнители (именованный стиль).\n",
        "\n",
        "Вот пример обоих стилей:"
      ]
    },
    {
      "cell_type": "code",
      "metadata": {
        "id": "rjSAfmfHWrqU",
        "outputId": "1c79197e-8c05-4a80-c153-bf34135483ab",
        "colab": {
          "base_uri": "https://localhost:8080/",
          "height": 34
        }
      },
      "source": [
        "import sqlite3\n",
        "\n",
        "con = sqlite3.connect(\":memory:\")\n",
        "cur = con.cursor()\n",
        "cur.execute(\"create table people (name, age)\")\n",
        "\n",
        "who = \"Rakhman\"\n",
        "age = 19\n",
        "\n",
        "# This is the qmark style:\n",
        "cur.execute(\"insert into people values (?, ?)\", (who, age))\n",
        "\n",
        "# And this is the named style:\n",
        "cur.execute(\"select * from people where name=:who and age=:age\", {\"who\": who, \"age\": age})\n",
        "\n",
        "print(cur.fetchone())\n",
        "\n",
        "con.close()"
      ],
      "execution_count": null,
      "outputs": [
        {
          "output_type": "stream",
          "text": [
            "('Rakhman', 19)\n"
          ],
          "name": "stdout"
        }
      ]
    },
    {
      "cell_type": "markdown",
      "metadata": {
        "id": "THBBFmMiWqc6"
      },
      "source": [
        "### **executemany**(sql, seq_of_parameters)\n",
        "Выполняет команду SQL для всех последовательностей параметров или отображений, найденных в последовательности seq_of_parameters. Модуль sqlite3 также позволяет использовать итератор, выдающий параметры вместо последовательности."
      ]
    },
    {
      "cell_type": "code",
      "metadata": {
        "id": "jcfRvxKoXtrs",
        "outputId": "0c5b64d4-06db-42d1-90b4-dcc1a36602ff",
        "colab": {
          "base_uri": "https://localhost:8080/",
          "height": 101
        }
      },
      "source": [
        "import sqlite3\n",
        "conn = sqlite3.connect('Groups.db')\n",
        "\n",
        "c = conn.cursor()\n",
        "\n",
        "# Пример с добавлением большего количества записей\n",
        "gr = [\n",
        "        (3, 'ИБ-1801', 3),\n",
        "        (4, 'ПМ-1801', 3),\n",
        "        (5, 'ПМ-1802', 3),\n",
        "      ]\n",
        "c.executemany('INSERT INTO Groups VALUES (?,?,?)', gr)\n",
        "groups = c.execute(\"SELECT * FROM Groups\")\n",
        "\n",
        "\n",
        "for i in groups:\n",
        "  print(i) \n",
        "\n",
        "conn.commit()\n",
        "\n",
        "conn.close()"
      ],
      "execution_count": null,
      "outputs": [
        {
          "output_type": "stream",
          "text": [
            "(1, 'БИ-1801', 3)\n",
            "(2, 'ИБ-1802', 3)\n",
            "(3, 'ИБ-1801', 3)\n",
            "(4, 'ПМ-1801', 3)\n",
            "(5, 'ПМ-1802', 3)\n"
          ],
          "name": "stdout"
        }
      ]
    },
    {
      "cell_type": "markdown",
      "metadata": {
        "id": "zD4wFv0zYS_A"
      },
      "source": [
        "### **executescript**(sql, seq_of_parameters)\n",
        "Это нестандартный удобный метод для выполнения нескольких функций SQL одновременно. Сначала он использует инструкцию COMMIT, а затем выполняет SQL-скрипт, который получает в качестве параметра.\n",
        "\n",
        "sql_script может быть экземпляром str."
      ]
    },
    {
      "cell_type": "code",
      "metadata": {
        "id": "4kVkG6q2ZBzW"
      },
      "source": [
        "import sqlite3\n",
        "\n",
        "con = sqlite3.connect(\":memory:\")\n",
        "cur = con.cursor()\n",
        "cur.executescript(\"\"\"\n",
        "    create table person(\n",
        "        firstname,\n",
        "        lastname,\n",
        "        age\n",
        "    );\n",
        "\n",
        "    create table book(\n",
        "        title,\n",
        "        author,\n",
        "        published\n",
        "    );\n",
        "\n",
        "    insert into book(title, author, published)\n",
        "    values (\n",
        "        'Dirk Gently''s Holistic Detective Agency',\n",
        "        'Douglas Adams',\n",
        "        1987\n",
        "    );\n",
        "    \"\"\")\n",
        "con.close()"
      ],
      "execution_count": null,
      "outputs": []
    },
    {
      "cell_type": "markdown",
      "metadata": {
        "id": "MsXCPy-pZs0E"
      },
      "source": [
        "### **fetchone()**\n",
        "Выбирает строку запроса, возвращая одну строку или None, когда нет доступных для возврата данных.\n",
        "\n",
        "### **fetchmany**(size=cursor.arraysize)\n",
        "Выбирает набор строк результата запроса, возвращая list.\n",
        "Количество строк для выборки за один вызов определяется параметром size.\n",
        "\n",
        "Обратите внимание, что с параметром size связаны некоторые соображения производительности. Для оптимальной производительности лучше использовать атрибут arraysize. Если используется параметр size, то лучше всего, чтобы он сохранял одно и то же значение от одного вызова fetchmany() до следующего\n",
        "\n",
        "### **fetchall()**\n",
        "Выбирает все строки результата запроса, возвращая list."
      ]
    },
    {
      "cell_type": "code",
      "metadata": {
        "id": "RkcUaYxwbGa_",
        "outputId": "88dad33b-e1c7-4829-8b37-4f6ac31ccc73",
        "colab": {
          "base_uri": "https://localhost:8080/",
          "height": 50
        }
      },
      "source": [
        "import sqlite3\n",
        "\n",
        "conn = sqlite3.connect('Groups.db')\n",
        "\n",
        "c = conn.cursor()\n",
        "\n",
        "c.execute(\"SELECT * FROM Groups\")\n",
        "\n",
        "print(c.fetchmany(3))\n",
        "c.execute(\"SELECT * FROM Groups WHERE group_name LIKE 'ПМ%'\") \n",
        "print(c.fetchall())\n",
        "# print(c.fetchone())"
      ],
      "execution_count": null,
      "outputs": [
        {
          "output_type": "stream",
          "text": [
            "[(1, 'БИ-1801', 3), (2, 'ИБ-1802', 3), (3, 'ИБ-1801', 3)]\n",
            "[(4, 'ПМ-1801', 3), (5, 'ПМ-1802', 3)]\n"
          ],
          "name": "stdout"
        }
      ]
    },
    {
      "cell_type": "markdown",
      "metadata": {
        "id": "_XyUCh3Ffex4"
      },
      "source": [
        "### **lastrowid**\n",
        "\n",
        "Этот доступный только для чтения атрибут предоставляет идентификатор последней измененной строки. Он устанавливается, только если вы выполнили оператор INSERT или REPLACE с помощью метода execute(). Для операций, отличных от INSERT или REPLACE, или когда вызывается executemany (), lastrowid устанавливается в None."
      ]
    },
    {
      "cell_type": "code",
      "metadata": {
        "id": "oRuTl5f0fqHl",
        "outputId": "c5653687-c231-4e3f-c40f-4e4c0d4d49eb",
        "colab": {
          "base_uri": "https://localhost:8080/",
          "height": 50
        }
      },
      "source": [
        "import sqlite3\n",
        "\n",
        "conn = sqlite3.connect('Groups.db')\n",
        "\n",
        "c = conn.cursor()\n",
        "\n",
        "c.execute('''INSERT INTO Groups VALUES (10, \"БИ-1803\", 3)''') \n",
        "\n",
        "print(c.lastrowid)\n",
        "\n",
        "c.execute('''INSERT INTO Groups VALUES (11, \"БИ-1804\", 3)''') \n",
        "\n",
        "print(c.lastrowid)\n",
        "\n",
        "\n"
      ],
      "execution_count": null,
      "outputs": [
        {
          "output_type": "stream",
          "text": [
            "10\n",
            "11\n"
          ],
          "name": "stdout"
        }
      ]
    },
    {
      "cell_type": "markdown",
      "metadata": {
        "id": "2PdyxQtDekLO"
      },
      "source": [
        "### **connection**\n",
        "Этот доступный только для чтения атрибут обеспечивает соединение с базой данных SQLite, используемое объектом Cursor.\n",
        "Пример использования:"
      ]
    },
    {
      "cell_type": "code",
      "metadata": {
        "id": "Wl42lc0Vez8O",
        "outputId": "7ce25f57-9ea9-4cf1-c1b8-f070eb7d4133",
        "colab": {
          "base_uri": "https://localhost:8080/",
          "height": 34
        }
      },
      "source": [
        "import sqlite3\n",
        "conn = sqlite3.connect('Groups.db')\n",
        "c = conn.cursor()\n",
        "\n",
        "c.connection == conn"
      ],
      "execution_count": null,
      "outputs": [
        {
          "output_type": "execute_result",
          "data": {
            "text/plain": [
              "True"
            ]
          },
          "metadata": {
            "tags": []
          },
          "execution_count": 34
        }
      ]
    },
    {
      "cell_type": "markdown",
      "metadata": {
        "id": "n7RLcQCjfEF-"
      },
      "source": [
        "### **close()**\n",
        "Закрытие курсора. С момента вызова курсор станет недоступен для использования"
      ]
    },
    {
      "cell_type": "markdown",
      "metadata": {
        "id": "jsa5m99DaZMW"
      },
      "source": [
        "# **Задание**\n",
        "\n",
        "Создайте базу данных в оперативной памяти. В ней сделайте таблицу с тремя строками. Добавьте хотя бы две записи в эту таблицу, а затем сделайте выборку с помощью 'Select *' (всех записей или любой конкретной по ключу) с выводом на экран."
      ]
    }
  ]
}