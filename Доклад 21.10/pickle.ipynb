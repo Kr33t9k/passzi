{
  "nbformat": 4,
  "nbformat_minor": 0,
  "metadata": {
    "colab": {
      "name": "pickle.ipynb",
      "provenance": [],
      "collapsed_sections": [],
      "toc_visible": true
    },
    "kernelspec": {
      "name": "python3",
      "display_name": "Python 3"
    }
  },
  "cells": [
    {
      "cell_type": "markdown",
      "metadata": {
        "id": "asOp12EW6Yit"
      },
      "source": [
        "# **Модуль pickle**\n",
        "![unnamed.jpg](data:image/jpeg;base64,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)"
      ]
    },
    {
      "cell_type": "markdown",
      "metadata": {
        "id": "q0K6sCD36h8v"
      },
      "source": [
        "Модуль pickle реализует алгоритм сериализации и десериализации объектов Python. \"Pickling\" - процесс преобразования объекта Python в поток байтов, а \"unpickling\" - обратная операция, в результате которой поток байтов преобразуется обратно в Python-объект. Это можно сравнить с процессом маринования огурцов, поэтому вы и видите такую картинку выше.\n",
        "Так как поток байтов легко можно записать в файл, модуль pickle применяется для сохранения и загрузки сложных объектов в Python.\n"
      ]
    },
    {
      "cell_type": "markdown",
      "metadata": {
        "id": "nWT3BILU_w-i"
      },
      "source": [
        "## **С какими данными может работать модуль pickle?**\n",
        "*   Логические типы: None, True и False\n",
        "*   Числа: int, float, комплексные числа\n",
        "*   Строки и байты: str, byte, bytearray\n",
        "*   кортежи, списки, наборы и словари, содержащие только поддерживаемые (приведенные в этом списке) объекты\n",
        "*   функции, определенные на верхнем уровне модуля (с использованием def, а не lambda)\n",
        "\n",
        "*   встроенные функции, определенные на верхнем уровне модуля\n",
        "\n",
        "*   классы, определенные на верхнем уровне модуля\n",
        "*   экземпляры классов, у которых тип данных результата вызова  __dict__, __getstate__() поддерживается (приведен в этом списке) \n",
        "\n",
        "**Что значит \"верхний уровень\"?**\n",
        "\n",
        "Например, модуль os.path - это модуль path, вложенный в модуль os. В данном случае модуль os - модуль верхнего уровня. Тоже самое с функциями и классами."
      ]
    },
    {
      "cell_type": "markdown",
      "metadata": {
        "id": "dc7ny2GO7jiN"
      },
      "source": [
        "## **Примеры использования**"
      ]
    },
    {
      "cell_type": "markdown",
      "metadata": {
        "id": "pxsXbDKGGSmS"
      },
      "source": [
        "### **Пример использования модуля pickle со словарем**"
      ]
    },
    {
      "cell_type": "code",
      "metadata": {
        "id": "1eP8-Lwg7ofK",
        "outputId": "252f2ab9-13ff-4379-96de-0f05ed279b28",
        "colab": {
          "base_uri": "https://localhost:8080/",
          "height": 50
        }
      },
      "source": [
        "import pickle\n",
        "\n",
        "data = {\n",
        "    \"numbers\": (1, 2, 3),\n",
        "    \"words\": (\"hello\", \"world\"),\n",
        "    \"My_english_is_cool\": (False, False, False)\n",
        "  }\n",
        "\n",
        "print(data)\n",
        "\n",
        "with open ('data.pickle', 'wb') as pickle_file:\n",
        "  pickle.dump(data, pickle_file)\n",
        "\n",
        "with open ('data.pickle', 'rb') as pickle_file:\n",
        "  new_data = pickle.load(pickle_file)\n",
        "\n",
        "print(new_data)\n"
      ],
      "execution_count": null,
      "outputs": [
        {
          "output_type": "stream",
          "text": [
            "{'numbers': (1, 2, 3), 'words': ('hello', 'world'), 'My_english_is_cool': (False, False, False)}\n",
            "{'numbers': (1, 2, 3), 'words': ('hello', 'world'), 'My_english_is_cool': (False, False, False)}\n"
          ],
          "name": "stdout"
        }
      ]
    },
    {
      "cell_type": "markdown",
      "metadata": {
        "id": "EMvNLBrmGhV9"
      },
      "source": [
        "### **Пример использования модуля pickle с классом**"
      ]
    },
    {
      "cell_type": "code",
      "metadata": {
        "id": "Bz621Kya_CCD",
        "outputId": "c118ccbe-e001-4aa4-c32c-0af4efec1cf6",
        "colab": {
          "base_uri": "https://localhost:8080/",
          "height": 34
        }
      },
      "source": [
        "import pickle\n",
        "\n",
        "class Person:\n",
        "    def __init__(self, name, age):\n",
        "        self.name = name\n",
        "        self.age = age\n",
        "    def say_hello(self):\n",
        "        print('Hello, %s!' % (self.name))\n",
        "\n",
        "Rakhman = Person('Rakhman', 19)\n",
        "\n",
        "with open('person.pickle', mode='wb') as pickle_file:\n",
        "    pickle.dump(Rakhman, pickle_file)\n",
        "\n",
        "with open('person.pickle', mode='rb') as pickle_file:\n",
        "    p_load = pickle.load(pickle_file)\n",
        "    p_load.say_hello()"
      ],
      "execution_count": null,
      "outputs": [
        {
          "output_type": "stream",
          "text": [
            "Hello, Rakhman!\n"
          ],
          "name": "stdout"
        }
      ]
    },
    {
      "cell_type": "markdown",
      "metadata": {
        "id": "31MYwEFYJ6ZB"
      },
      "source": [
        "## **Протоколы**"
      ]
    },
    {
      "cell_type": "markdown",
      "metadata": {
        "id": "x9JRoxJOKVxI"
      },
      "source": [
        "**Сейчас есть 6 протоколов \"маринования\"**\n",
        "\n",
        "Чем выше протокол, тем более новая версия Python нужна для его работы.\n",
        "\n",
        "*   Протокол версии 0 является оригинальным “читаемым” протоколом и обратно совместим с более ранними версиями Python,\n",
        "*   Протокол версии 1 - это старый двоичный формат, который также совместим с более ранними версиями Python,\n",
        "*   Протокол версии 2 был представлен в Python 2.3. Это обеспечивает гораздо более эффективное \"маринование\" классов нового стиля. Для получения информации об улучшениях, внесенных протоколом 2, см. [PEP 307](https://www.python.org/dev/peps/pep-0307/).\n",
        "*   Протокол версии 3 был добавлен в Python 3.0. Он имеет явную поддержку байтовых объектов и не может быть распакован Python 2.x. Это протокол по умолчанию в Python 3.0–3.7.\n",
        "*   Протокол версии 4 был добавлен в Python 3.4. Он добавляет поддержку очень больших объектов, \"маринование\" большего количества видов объектов и некоторые оптимизации формата данных. Начиная с Python 3.8, это протокол по умолчанию. Для получения информации об улучшениях, внесенных протоколом 4, см. [PEP 3154](https://www.python.org/dev/peps/pep-3154).\n",
        "*   Протокол версии 5 был добавлен в Python 3.8. Он добавляет поддержку [внеполосных данных](https://ru.wikipedia.org/wiki/%D0%92%D0%BD%D0%B5%D0%BF%D0%BE%D0%BB%D0%BE%D1%81%D0%BD%D1%8B%D0%B5_%D0%B4%D0%B0%D0%BD%D0%BD%D1%8B%D0%B5) и ускорение для внутриполосных данных. Для получения информации об улучшениях, внесенных протоколом 5, см.  [PEP 574](https://www.python.org/dev/peps/pep-0574/)."
      ]
    },
    {
      "cell_type": "markdown",
      "metadata": {
        "id": "oxFhS6nfOyGz"
      },
      "source": [
        "## **Модуль pickle предоставляет следующие функции:**"
      ]
    },
    {
      "cell_type": "markdown",
      "metadata": {
        "id": "GaYNZBhTPrk8"
      },
      "source": [
        "### **pickle.dump**(obj, file, protocol=None, *, fix_imports=True, buffer_callback=None)\n",
        "Записывает сериализованный объект в файл.\n",
        "\n",
        "Изменено в версии 3.8: добавлен аргумент buffer_callback, по умолчанию равный None."
      ]
    },
    {
      "cell_type": "code",
      "metadata": {
        "id": "bzyKRlnMRLs8"
      },
      "source": [
        "import pickle\n",
        "\n",
        "obj = \"Million dollarov\"\n",
        "\n",
        "with open('dump_example.pickle', 'wb') as karman:\n",
        "    pickle.dump(obj, karman, 3)"
      ],
      "execution_count": null,
      "outputs": []
    },
    {
      "cell_type": "markdown",
      "metadata": {
        "id": "g8UEWAu7R13w"
      },
      "source": [
        "### **pickle.dumps**(obj, protocol=None, *, fix_imports=True, buffer_callback=None)\n",
        "\n",
        "Возвращает \"маринованное\" представление obj в виде байтового объекта, а не записывает его в файл.\n",
        "\n",
        "Изменено в версии 3.8: добавлен аргумент buffer_callback."
      ]
    },
    {
      "cell_type": "code",
      "metadata": {
        "id": "hPQWgj_SSCXx",
        "outputId": "ed395174-79c4-48f4-85cb-c3c7b4b9cee2",
        "colab": {
          "base_uri": "https://localhost:8080/",
          "height": 34
        }
      },
      "source": [
        "import pickle\n",
        "\n",
        "obj = \"Million dollarov x2 = dva milliona dollarov\"\n",
        "\n",
        "obj2 = pickle.dumps(obj, 3)\n",
        "\n",
        "print(obj2)"
      ],
      "execution_count": null,
      "outputs": [
        {
          "output_type": "stream",
          "text": [
            "b'\\x80\\x03X+\\x00\\x00\\x00Million dollarov x2 = dva milliona dollarovq\\x00.'\n"
          ],
          "name": "stdout"
        }
      ]
    },
    {
      "cell_type": "markdown",
      "metadata": {
        "id": "QMriX-YgThcU"
      },
      "source": [
        "### **pickle.load**(file, *, fix_imports=True, encoding=\"ASCII\", errors=\"strict\", buffers=None)\n",
        "\n",
        "Загружает \"маринованное\" представление объекта из файла и возвращает восстановленную иерархию объектов, указанную в нем.\n",
        "\n",
        "Версия протокола \"маринованного\" объекта определяется автоматически, поэтому аргумент протокола не требуется. Байты, прошедшие мимо \"маринованного\" объекта, игнорируются.\n",
        "\n",
        "Изменено в версии 3.8: добавлен аргумент buffers.\n",
        "\n",
        "Если **fix_imports** имеет значение true и протокол меньше 3, pickle попытается сопоставить новые имена Python 3 со старыми именами модулей, используемыми в Python 2, чтобы поток данных pickle был доступен для чтения с Python 2.\n",
        "\n",
        "Если **buffer_callback** равен None (по умолчанию), представления буфера сериализуются в файл как часть потока pickle. Если buffer_callback не равен None, то его можно вызывать любое количество раз с помощью представления буфера. Если обратный вызов возвращает ложное значение (например, None), данный буфер находится вне диапазона; в противном случае буфер сериализуется внутри полосы, то есть внутри потока pickle. \n",
        "\n",
        "Если buffer_callback не равен None и протокол равен None или меньше 5 - вызовется ошибка."
      ]
    },
    {
      "cell_type": "code",
      "metadata": {
        "id": "vyEWcMVyUjuu",
        "outputId": "d7e14d5a-8f74-4f5d-92c2-d2839d30db48",
        "colab": {
          "base_uri": "https://localhost:8080/",
          "height": 34
        }
      },
      "source": [
        "import pickle\n",
        "\n",
        "with open('dump_example.pickle', 'rb') as karman:\n",
        "    million_dollarov = pickle.load(karman)\n",
        "    print(million_dollarov)"
      ],
      "execution_count": null,
      "outputs": [
        {
          "output_type": "stream",
          "text": [
            "Million dollarov\n"
          ],
          "name": "stdout"
        }
      ]
    },
    {
      "cell_type": "markdown",
      "metadata": {
        "id": "NKSsfnYPVCbc"
      },
      "source": [
        "### **pickle.loads**(data, /, *, fix_imports=True, encoding=\"ASCII\", errors=\"strict\", buffers=None)\n",
        "\n",
        "Возвращает восстановленную иерархию объектов \"маринованного\" представления. Данные должны быть байтоподобными объектами.\n",
        "\n",
        "Версия протокола \"маринованного\" объекта определяется автоматически, поэтому аргумент протокола не требуется. Байты, прошедшие мимо \"маринованного\" представления объекта, игнорируются.\n",
        "\n",
        "Изменено в версии 3.8: добавлен аргумент buffers."
      ]
    },
    {
      "cell_type": "code",
      "metadata": {
        "id": "XIpKABlkVvUk",
        "outputId": "f267ce74-9122-4191-877f-bf27101ba6eb",
        "colab": {
          "base_uri": "https://localhost:8080/",
          "height": 50
        }
      },
      "source": [
        "import pickle\n",
        "\n",
        "obj = pickle.dumps(\"Million dollarov x2 = dva milliona dollarov\", 3)\n",
        "\n",
        "print(obj)\n",
        "\n",
        "obj2 = pickle.loads(obj)\n",
        "\n",
        "print(obj2)"
      ],
      "execution_count": null,
      "outputs": [
        {
          "output_type": "stream",
          "text": [
            "b'\\x80\\x03X+\\x00\\x00\\x00Million dollarov x2 = dva milliona dollarovq\\x00.'\n",
            "Million dollarov x2 = dva milliona dollarov\n"
          ],
          "name": "stdout"
        }
      ]
    },
    {
      "cell_type": "markdown",
      "metadata": {
        "id": "84TocSamWaZ1"
      },
      "source": [
        "## **В модуле pickle есть следующие константы**\n",
        "\n",
        "pickle.**HIGHEST_PROTOCOL**\n",
        "\n",
        "Возвращает наивысшую доступную версию протокола. Значение может быть передано в качестве значения протокола функциям dump() и dumps ().\n",
        "\n",
        "pickle.**DEFAULT_PROTOCOL**\n",
        "\n",
        "Возвращает версию протокола по умолчанию"
      ]
    },
    {
      "cell_type": "code",
      "metadata": {
        "id": "oORFBnfoXUf9",
        "outputId": "740bf16b-6d7c-4010-acd4-138c25fe7230",
        "colab": {
          "base_uri": "https://localhost:8080/",
          "height": 50
        }
      },
      "source": [
        "import pickle\n",
        "\n",
        "print(pickle.HIGHEST_PROTOCOL)\n",
        "print(pickle.DEFAULT_PROTOCOL)"
      ],
      "execution_count": null,
      "outputs": [
        {
          "output_type": "stream",
          "text": [
            "4\n",
            "3\n"
          ],
          "name": "stdout"
        }
      ]
    },
    {
      "cell_type": "markdown",
      "metadata": {
        "id": "sMLeqT5tXkCZ"
      },
      "source": [
        "## **Важные замечания:**"
      ]
    },
    {
      "cell_type": "markdown",
      "metadata": {
        "id": "qcc6BSu2XqKO"
      },
      "source": [
        "### **Чем отличаются протоколы pickle от JSON?**\n",
        "Вот фундаментальные различия между pickle и JSON:\n",
        "\n",
        "*   JSON - это формат текстовой сериализации (он выводит текст unicode, хотя большую часть времени он затем кодируется в utf-8), когда pickle - это двоичный формат сериализации;\n",
        "*   Соответственно, JSON - читаемый для человека формат, а pickle - нет;\n",
        "*   JSON совместим и широко используется за пределами экосистемы Python, в то время как pickle специфичен для Python;\n",
        "*   JSON, по умолчанию, может представлять только подмножество встроенных типов Python и никаких пользовательских классов; pickle может представлять чрезвычайно большое количество типов Python (многие из них автоматически, с помощью умного использования средств самоанализа Python; сложные случаи могут быть решены путем реализации конкретных объектных API);\n",
        "*   В отличие от pickle, десериализация ненадежного JSON сама по себе не создает уязвимости при выполнении произвольного кода.\n",
        "\n"
      ]
    },
    {
      "cell_type": "markdown",
      "metadata": {
        "id": "GCHQH1aLZQfy"
      },
      "source": [
        "### **Не создает уязвимости? Что?**\n",
        "\n",
        "Все правильно. В официальной документации сразу после определения самого модуля идет красная рамка с таким текстом:\n",
        "\n",
        "> **Предупреждение:** Модуль pickle небезопасен. Не загружайте с помощью модуля pickle файлы из ненадёжных источников. Это может привести к необратимым последствиям (Ладно, там немного по-другому эта фраза написана, но суть такая).\n",
        "\n",
        "> Рассмотрите возможность подписания данных с помощью hmac, если вам нужно убедиться, что они не были подделаны.\n",
        "\n",
        "> Более безопасные форматы сериализации, такие как json, могут быть более подходящими, если вы обрабатываете ненадежные данные."
      ]
    },
    {
      "cell_type": "markdown",
      "metadata": {
        "id": "s6-l4qOCg6hv"
      },
      "source": [
        "### **Что это значит простыми словами?**\n",
        "\n",
        "Формат pickle использует полноценную виртуальную машину. Если код, введенный в машину, контролируется злоумышленником, он может выполнять действия, выходящие далеко за рамки сериализации объектов. Это означает, что \"размаринование\" может запускать любой вызываемый объект в любом месте с любыми аргументами. Даже если соответствующий модуль еще не был импортирован, pickle с удовольствием импортирует его. Например, для выполнения os.system требуется всего пара десятков символов.\n",
        "\n",
        "Обратите внимание, в примере ниже (который я собрал с двух разных сайтов (как и текст выше :)), модуль os.path даже не импортирован изначально."
      ]
    },
    {
      "cell_type": "code",
      "metadata": {
        "id": "SzGWU1bsc12X",
        "outputId": "378cef3e-c0e4-4d83-d9ff-01a6f8867e5c",
        "colab": {
          "base_uri": "https://localhost:8080/",
          "height": 50
        }
      },
      "source": [
        "import pickle\n",
        "\n",
        "class Bomb:\n",
        "    def __init__(self, name):\n",
        "        self.name = name\n",
        "\n",
        "    def __getstate__(self):\n",
        "        return self.name\n",
        "\n",
        "    def __setstate__(self, state):\n",
        "        import os.path #загружаем необходимый модуль\n",
        "        self.name = state\n",
        "        print(f'Bang! From {self.name}.')\n",
        "        example = os.path.join('Здесь', 'Могли', 'Украсть', 'Миллион', 'Долларов') #Да.\n",
        "        print(example)\n",
        "\n",
        "bomb = Bomb('Rakhman')\n",
        "\n",
        "pickled_bomb = pickle.dumps(bomb)\n",
        "unpickled_bomb = pickle.loads(pickled_bomb)"
      ],
      "execution_count": null,
      "outputs": [
        {
          "output_type": "stream",
          "text": [
            "Bang! From Rakhman.\n",
            "Здесь/Могли/Украсть/Миллион/Долларов\n"
          ],
          "name": "stdout"
        }
      ]
    },
    {
      "cell_type": "markdown",
      "metadata": {
        "id": "DXBI_aFUilwv"
      },
      "source": [
        "## **Модуль cPickle**\n",
        "\n",
        "В больших проектах консервирование модулем pickle занимает достаточно много времени. Эту проблему решили тем, что был написан подобный модуль, но уже не на Питоне, а на С, что, по заявлению разработчиков, ускорило его производительность в тысячи раз. Но cPickle не позволяет пользователю создавать подклассы от pickle. Если подклассы не важны, вероятно, лучше использовать cPickle.\n",
        "\n",
        "А вообще, хорошая идея - использовать следующую конструкцию:\n",
        "\n",
        "```\n",
        "try:\n",
        "   import cPickle as pickle\n",
        "except:\n",
        "   import pickle\n",
        "```\n",
        "\n"
      ]
    },
    {
      "cell_type": "markdown",
      "metadata": {
        "id": "Vll7kir0YO_i"
      },
      "source": [
        "# **Задание**\n",
        "Создайте словарь с тремя ключами, присвоив им значения с разными типами данных. Запишите словарь в файл с помощью модуля pickle, затем откройте этот файл и выведите его содержимое на экран. \n"
      ]
    }
  ]
}